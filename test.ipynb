{
 "cells": [
  {
   "cell_type": "code",
   "execution_count": 1,
   "id": "c4c73308-e2b6-4f74-b978-275149b56c03",
   "metadata": {},
   "outputs": [
    {
     "name": "stderr",
     "output_type": "stream",
     "text": [
      "D:\\Sign_Language\\env\\Lib\\site-packages\\google\\protobuf\\symbol_database.py:55: UserWarning: SymbolDatabase.GetPrototype() is deprecated. Please use message_factory.GetMessageClass() instead. SymbolDatabase.GetPrototype() will be removed soon.\n",
      "  warnings.warn('SymbolDatabase.GetPrototype() is deprecated. Please '\n"
     ]
    }
   ],
   "source": [
    "import cv2\n",
    "import mediapipe as mp\n",
    "\n",
    "cap = cv2.VideoCapture(0)\n",
    "mp_hands = mp.solutions.hands\n",
    "hands = mp_hands.Hands()\n",
    "mp_draw = mp.solutions.drawing_utils\n",
    "\n",
    "while True:\n",
    "\n",
    "    _, img = cap.read()\n",
    "    imgRGB = cv2.cvtColor(img, cv2.COLOR_BGR2RGB)\n",
    "\n",
    "    results = hands.process(imgRGB)\n",
    "\n",
    "    if results.multi_hand_landmarks:\n",
    "        for hand_landmarks in results.multi_hand_landmarks:\n",
    "            for lm in hand_landmarks.landmark:\n",
    "                height, width, channel = img.shape\n",
    "                cx, cy = int(lm.x * width), int(lm.y * height)\n",
    "                cv2.circle(img, (cx, cy), 10, (255, 0, 255), cv2.FILLED)\n",
    "                mp_draw.draw_landmarks(img, hand_landmarks, mp_hands.HAND_CONNECTIONS)\n",
    "\n",
    "    cv2.imshow(\"video\", img)\n",
    "    if cv2.waitKey(1) & 0xFF == ord('q'):\n",
    "        break"
   ]
  },
  {
   "cell_type": "code",
   "execution_count": 2,
   "id": "774ddf2a-f0f1-4623-878e-3ff5d2a325ab",
   "metadata": {},
   "outputs": [
    {
     "name": "stdout",
     "output_type": "stream",
     "text": [
      "<class 'int'>\n"
     ]
    }
   ],
   "source": [
    "a = ord('5')\n",
    "print(type(a))"
   ]
  },
  {
   "cell_type": "code",
   "execution_count": null,
   "id": "244d152d-91b6-4573-8462-de4996d5bc88",
   "metadata": {},
   "outputs": [],
   "source": [
    "import cv2\n",
    "import mediapipe as mp\n",
    "\n",
    "# Initialize MediaPipe Hands solution\n",
    "mp_hands = mp.solutions.hands\n",
    "hands = mp_hands.Hands(max_num_hands=2, min_detection_confidence=0.7)\n",
    "mp_drawing = mp.solutions.drawing_utils\n",
    "\n",
    "# Initialize the webcam\n",
    "cap = cv2.VideoCapture(0)\n",
    "\n",
    "# Language options for 10 languages\n",
    "languages = ['English', 'Tamil', 'Telugu', 'Hindi', 'Malayalam', \n",
    "             'Gujarati', 'Marathi', 'Kannada', 'Bengali', 'Punjabi']\n",
    "\n",
    "# Variable to store the selected language\n",
    "selected_language = None\n",
    "\n",
    "while True:\n",
    "    ret, frame = cap.read()\n",
    "    if not ret:\n",
    "        break\n",
    "\n",
    "    # Flip the frame to create a mirror effect\n",
    "    frame = cv2.flip(frame, 1)\n",
    "\n",
    "    # Convert the BGR frame to RGB\n",
    "    rgb_frame = cv2.cvtColor(frame, cv2.COLOR_BGR2RGB)\n",
    "    \n",
    "    # Process the frame with MediaPipe\n",
    "    result = hands.process(rgb_frame)\n",
    "\n",
    "    # Initialize the finger count for both hands\n",
    "    finger_count = [0, 0]\n",
    "    total_fingers = 0\n",
    "\n",
    "    # Check if any hands are detected\n",
    "    if result.multi_hand_landmarks:\n",
    "        for idx, hand_landmarks in enumerate(result.multi_hand_landmarks):\n",
    "            mp_drawing.draw_landmarks(frame, hand_landmarks, mp_hands.HAND_CONNECTIONS)\n",
    "\n",
    "            # Check how many fingers are up for the current hand\n",
    "            if hand_landmarks.landmark[4].x < hand_landmarks.landmark[3].x:  # Thumb\n",
    "                finger_count[idx] += 1\n",
    "            if hand_landmarks.landmark[8].y < hand_landmarks.landmark[6].y:  # Index finger\n",
    "                finger_count[idx] += 1\n",
    "            if hand_landmarks.landmark[12].y < hand_landmarks.landmark[10].y:  # Middle finger\n",
    "                finger_count[idx] += 1\n",
    "            if hand_landmarks.landmark[16].y < hand_landmarks.landmark[14].y:  # Ring finger\n",
    "                finger_count[idx] += 1\n",
    "            if hand_landmarks.landmark[20].y < hand_landmarks.landmark[18].y:  # Little finger\n",
    "                finger_count[idx] += 1\n",
    "\n",
    "        # Calculate the total finger count based on single or both hands\n",
    "        if len(result.multi_hand_landmarks) == 1:\n",
    "            total_fingers = finger_count[0]\n",
    "        elif len(result.multi_hand_landmarks) == 2:\n",
    "            # If both hands are detected, adjust the count for languages 6-10\n",
    "            total_fingers = 5 + finger_count[1] if finger_count[0] == 5 else finger_count[0] + finger_count[1]\n",
    "\n",
    "    # Update the selected language based on the number of fingers\n",
    "    if 1 <= total_fingers <= 10:\n",
    "        selected_language = languages[total_fingers-0]\n",
    "\n",
    "    # Display language options and highlight the selected one\n",
    "    for i, language in enumerate(languages):\n",
    "        color = (0, 255, 0) if selected_language == language else (255, 255, 255)\n",
    "        cv2.putText(frame, f'{i + 1}. {language}', (10, 30 + i * 30), cv2.FONT_HERSHEY_SIMPLEX, 1, color, 2)\n",
    "\n",
    "    # Display the selected language on the screen\n",
    "    if selected_language:\n",
    "        cv2.putText(frame, f'Selected Language: {selected_language}', (10, 400), cv2.FONT_HERSHEY_SIMPLEX, 1, (0, 255, 255), 2)\n",
    "\n",
    "    # Show the frame with the detected hand landmarks\n",
    "    cv2.imshow('Language Selection by Sign', frame)\n",
    "\n",
    "    # Exit on pressing 'q'\n",
    "    if cv2.waitKey(1) & 0xFF == ord('q'):\n",
    "        break\n",
    "\n",
    "# Release the camera and close all OpenCV windows\n",
    "cap.release()\n",
    "cv2.destroyAllWindows()\n",
    "\n",
    "# Print the selected language when exiting the program\n",
    "if selected_language:\n",
    "    print(f'Selected Language: {selected_language}')\n",
    "else:\n",
    "    print(\"No language was selected.\")"
   ]
  },
  {
   "cell_type": "code",
   "execution_count": null,
   "id": "9f854dd8-3fc6-4448-a208-8e49872c822e",
   "metadata": {},
   "outputs": [],
   "source": []
  }
 ],
 "metadata": {
  "kernelspec": {
   "display_name": "Python 3 (ipykernel)",
   "language": "python",
   "name": "python3"
  },
  "language_info": {
   "codemirror_mode": {
    "name": "ipython",
    "version": 3
   },
   "file_extension": ".py",
   "mimetype": "text/x-python",
   "name": "python",
   "nbconvert_exporter": "python",
   "pygments_lexer": "ipython3",
   "version": "3.12.5"
  }
 },
 "nbformat": 4,
 "nbformat_minor": 5
}
