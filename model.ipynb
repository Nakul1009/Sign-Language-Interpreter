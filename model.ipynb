{
 "cells": [
  {
   "cell_type": "code",
   "execution_count": 179,
   "id": "a1b75a97-3c09-4671-88ac-bf5919161305",
   "metadata": {},
   "outputs": [],
   "source": [
    "import pickle\n",
    "from sklearn.ensemble import RandomForestClassifier\n",
    "from sklearn.model_selection import train_test_split\n",
    "from sklearn.metrics import accuracy_score\n",
    "import numpy as np"
   ]
  },
  {
   "cell_type": "markdown",
   "id": "8f3fcf70-590c-4661-bdb0-c005c1086741",
   "metadata": {},
   "source": [
    "# Reading File"
   ]
  },
  {
   "cell_type": "code",
   "execution_count": 180,
   "id": "30d746ee-63a8-482c-bfcd-d800d7c04ba9",
   "metadata": {},
   "outputs": [
    {
     "data": {
      "text/plain": [
       "39714"
      ]
     },
     "execution_count": 180,
     "metadata": {},
     "output_type": "execute_result"
    }
   ],
   "source": [
    "f = open('mulitdata.pickle', 'rb')\n",
    "read = pickle.load(f)\n",
    "# Define the length to which you want to pad\n",
    "\n",
    "\n",
    "data_1 = np.array(read['data_1']*2)\n",
    "labels_1 = np.array(read['labels_1']*2)\n",
    "\n",
    "data_2 = np.array(read['data_2']*2)\n",
    "labels_2 = np.array(read['labels_2']*2)\n",
    "len(data_1)"
   ]
  },
  {
   "cell_type": "markdown",
   "id": "f861e5c6-9d1f-4089-93ff-c03e89323723",
   "metadata": {},
   "source": [
    "# testing"
   ]
  },
  {
   "cell_type": "code",
   "execution_count": 184,
   "id": "c0aba218-5c67-4f5c-b0d9-925854207b7a",
   "metadata": {},
   "outputs": [
    {
     "name": "stdout",
     "output_type": "stream",
     "text": [
      "[49 50 51 52 53 54 55 56 57 66 67 70 71 72 73 74 76 78 79 80 81 82 83 85\n",
      " 86 87]\n",
      "[49 50 51 52 54 55 56 57 65 66 67 68 69 70 71 72 73 74 75 76 77 78 79 80\n",
      " 81 82 83 84 85 86 88 89 90]\n"
     ]
    }
   ],
   "source": [
    "print(np.unique(labels_1))\n",
    "print(np.unique(labels_2))"
   ]
  },
  {
   "cell_type": "markdown",
   "id": "30f11c6d-43a4-4d23-8d88-499d96d4a75f",
   "metadata": {},
   "source": [
    "# Splitting Training as Testing data and within the model"
   ]
  },
  {
   "cell_type": "code",
   "execution_count": 185,
   "id": "7a169f43-7985-4a2e-be69-01c96a5ba49b",
   "metadata": {},
   "outputs": [
    {
     "name": "stdout",
     "output_type": "stream",
     "text": [
      "Shape of X: (39714, 42)\n",
      "Shape of y: (43978, 84)\n",
      "Shape of X: (39714,)\n",
      "Shape of y: (43978,)\n"
     ]
    }
   ],
   "source": [
    "print(\"Shape of X:\", data_1.shape)\n",
    "print(\"Shape of y:\", data_2.shape)\n",
    "print(\"Shape of X:\", labels_1.shape)\n",
    "print(\"Shape of y:\", labels_2.shape)"
   ]
  },
  {
   "cell_type": "code",
   "execution_count": 187,
   "id": "e1f7ffd7-3967-450b-b08e-c2b54adba5e2",
   "metadata": {
    "scrolled": true
   },
   "outputs": [
    {
     "name": "stdout",
     "output_type": "stream",
     "text": [
      "X_train shape: (27799, 42)\n",
      "y_train shape: (27799,)\n",
      "X_test shape: (11915, 42)\n",
      "y_test shape: (11915,)\n"
     ]
    }
   ],
   "source": [
    "x_train_1, x_test_1, y_train_1, y_test_1 = train_test_split(data_1*100, labels_1*100, test_size=0.3, shuffle=True, stratify = labels_1)\n",
    "print(\"X_train shape:\", x_train_1.shape)\n",
    "print(\"y_train shape:\", y_train_1.shape)\n",
    "print(\"X_test shape:\", x_test_1.shape)\n",
    "print(\"y_test shape:\", y_test_1.shape)"
   ]
  },
  {
   "cell_type": "code",
   "execution_count": 188,
   "id": "2f9db6cb-510c-4731-bce4-4513a7e92438",
   "metadata": {},
   "outputs": [
    {
     "name": "stdout",
     "output_type": "stream",
     "text": [
      "X_train shape: (30784, 84)\n",
      "y_train shape: (30784,)\n",
      "X_test shape: (13194, 84)\n",
      "y_test shape: (13194,)\n"
     ]
    }
   ],
   "source": [
    "x_train_2, x_test_2, y_train_2, y_test_2 = train_test_split(data_2, labels_2, test_size=0.3, shuffle=True, stratify = labels_2)\n",
    "print(\"X_train shape:\", x_train_2.shape)\n",
    "print(\"y_train shape:\", y_train_2.shape)\n",
    "print(\"X_test shape:\", x_test_2.shape)\n",
    "print(\"y_test shape:\", y_test_2.shape)"
   ]
  },
  {
   "cell_type": "code",
   "execution_count": 189,
   "id": "112e4bf2-4278-4b79-837c-fa7a249035ae",
   "metadata": {},
   "outputs": [],
   "source": [
    "model_1 = RandomForestClassifier()\n",
    "model_1.fit(x_train_1, y_train_1)\n",
    "y_predict_1 = model_1.predict(x_test_1)\n",
    "\n",
    "model_2 = RandomForestClassifier()\n",
    "model_2.fit(x_train_2, y_train_2)\n",
    "y_predict_2 = model_2.predict(x_test_2)"
   ]
  },
  {
   "cell_type": "markdown",
   "id": "e7bf4e4d-f4c2-4521-af73-b8352c0ff7f6",
   "metadata": {},
   "source": [
    "# Accuracy Score"
   ]
  },
  {
   "cell_type": "code",
   "execution_count": 190,
   "id": "dfc289c2-c378-4ccf-963a-a8a5867feb5d",
   "metadata": {},
   "outputs": [
    {
     "data": {
      "text/plain": [
       "(11915,)"
      ]
     },
     "execution_count": 190,
     "metadata": {},
     "output_type": "execute_result"
    }
   ],
   "source": [
    "(y_test_1).shape"
   ]
  },
  {
   "cell_type": "code",
   "execution_count": 191,
   "id": "29f05e2b-3214-4076-8b5d-f14df880a37c",
   "metadata": {},
   "outputs": [
    {
     "name": "stdout",
     "output_type": "stream",
     "text": [
      "the predicted score is for model 1 is  99.9832144355854%\n",
      "the predicted score is for model 2 is  99.98484159466425%\n"
     ]
    }
   ],
   "source": [
    "score_1 = accuracy_score(y_predict_1, y_test_1)\n",
    "print(f\"the predicted score is for model 1 is  {score_1*100}%\")\n",
    "\n",
    "score_2 = accuracy_score(y_predict_2, y_test_2)\n",
    "print(f\"the predicted score is for model 2 is  {score_2*100}%\")"
   ]
  },
  {
   "cell_type": "markdown",
   "id": "d80b742b-ba0a-4f96-8065-be9de8279b31",
   "metadata": {},
   "source": [
    "# Saving the model as binary file"
   ]
  },
  {
   "cell_type": "code",
   "execution_count": 192,
   "id": "1e17a55e-162c-4249-8a06-28ee0ec359a3",
   "metadata": {},
   "outputs": [],
   "source": [
    "f = open('model_1.p', 'wb')\n",
    "pickle.dump({'model': model_1}, f)\n",
    "f.close()\n",
    "\n",
    "f = open('model_2.p', 'wb')\n",
    "pickle.dump({'model': model_2}, f)\n",
    "f.close()"
   ]
  }
 ],
 "metadata": {
  "kernelspec": {
   "display_name": "Python 3 (ipykernel)",
   "language": "python",
   "name": "python3"
  },
  "language_info": {
   "codemirror_mode": {
    "name": "ipython",
    "version": 3
   },
   "file_extension": ".py",
   "mimetype": "text/x-python",
   "name": "python",
   "nbconvert_exporter": "python",
   "pygments_lexer": "ipython3",
   "version": "3.12.5"
  }
 },
 "nbformat": 4,
 "nbformat_minor": 5
}
